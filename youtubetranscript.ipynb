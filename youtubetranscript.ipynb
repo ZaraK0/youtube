{
  "nbformat": 4,
  "nbformat_minor": 0,
  "metadata": {
    "colab": {
      "provenance": []
    },
    "kernelspec": {
      "name": "python3",
      "display_name": "Python 3"
    },
    "language_info": {
      "name": "python"
    }
  },
  "cells": [
    {
      "cell_type": "code",
      "execution_count": null,
      "metadata": {
        "colab": {
          "base_uri": "https://localhost:8080/"
        },
        "id": "LTPnFO57Id2B",
        "outputId": "d8c544dd-79be-4f19-b6fe-f95ce70e2bc5"
      },
      "outputs": [
        {
          "output_type": "stream",
          "name": "stdout",
          "text": [
            "Collecting pytube\n",
            "  Downloading pytube-15.0.0-py3-none-any.whl.metadata (5.0 kB)\n",
            "Downloading pytube-15.0.0-py3-none-any.whl (57 kB)\n",
            "\u001b[2K   \u001b[90m━━━━━━━━━━━━━━━━━━━━━━━━━━━━━━━━━━━━━━━━\u001b[0m \u001b[32m57.6/57.6 kB\u001b[0m \u001b[31m1.8 MB/s\u001b[0m eta \u001b[36m0:00:00\u001b[0m\n",
            "\u001b[?25hInstalling collected packages: pytube\n",
            "Successfully installed pytube-15.0.0\n",
            "Collecting youtube-transcript-api\n",
            "  Downloading youtube_transcript_api-0.6.2-py3-none-any.whl.metadata (15 kB)\n",
            "Requirement already satisfied: requests in /usr/local/lib/python3.10/dist-packages (from youtube-transcript-api) (2.32.3)\n",
            "Requirement already satisfied: charset-normalizer<4,>=2 in /usr/local/lib/python3.10/dist-packages (from requests->youtube-transcript-api) (3.3.2)\n",
            "Requirement already satisfied: idna<4,>=2.5 in /usr/local/lib/python3.10/dist-packages (from requests->youtube-transcript-api) (3.8)\n",
            "Requirement already satisfied: urllib3<3,>=1.21.1 in /usr/local/lib/python3.10/dist-packages (from requests->youtube-transcript-api) (2.0.7)\n",
            "Requirement already satisfied: certifi>=2017.4.17 in /usr/local/lib/python3.10/dist-packages (from requests->youtube-transcript-api) (2024.8.30)\n",
            "Downloading youtube_transcript_api-0.6.2-py3-none-any.whl (24 kB)\n",
            "Installing collected packages: youtube-transcript-api\n",
            "Successfully installed youtube-transcript-api-0.6.2\n"
          ]
        }
      ],
      "source": [
        "!pip install pytube\n",
        "!pip install youtube-transcript-api"
      ]
    },
    {
      "cell_type": "markdown",
      "source": [
        "**Cell 1: Import Libraries**\n",
        "\n",
        "`from pytube import YouTube`: We are importing the YouTube class from the pytube library. This class allows us to access details about a YouTube video, such as title, views, and length.\n",
        "\n",
        "`from youtube_transcript_api import YouTubeTranscriptApi`: This imports the YouTubeTranscriptApi from the youtube-transcript-api library, which allows us to retrieve transcripts from YouTube videos."
      ],
      "metadata": {
        "id": "0emo3-8QKsac"
      }
    },
    {
      "cell_type": "markdown",
      "source": [
        "**Cell 2: Fetch Video Details Function**\n",
        "\n",
        "Line-by-line breakdown:\n",
        "\n",
        "`def fetch_video_details(video_url):`: This defines a function called fetch_video_details that takes video_url (the link to a YouTube video) as an argument.\n",
        "\n",
        "`yt = YouTube(video_url)`: The YouTube class is initialized with the provided URL. It creates an object yt that contains all the video-related information.\n",
        "\n",
        "`print(f\"Title: {yt.title}\")`: Using the yt object, we print the title of the video using yt.title.\n",
        "\n",
        "`print(f\"Views: {yt.views}\")`: We print the number of views the video has, accessed via yt.views.\n",
        "\n",
        "`print(f\"Length: {yt.length} seconds\")`: This prints the length (duration) of the video in seconds, accessed via yt.length.\n",
        "\n",
        "`print(f\"Description: {yt.description}\")`: This prints the description of the video, which is retrieved using yt.description."
      ],
      "metadata": {
        "id": "IKdKjhB0K81t"
      }
    },
    {
      "cell_type": "markdown",
      "source": [
        "**Cell 3: Fetch Transcript Function**\n",
        "\n",
        "Line-by-line breakdown:\n",
        "\n",
        "`def fetch_transcript(video_url):`: Defines a new function `fetch_transcript` that also takes the` video_url` as its input.\n",
        "\n",
        "`video_id = video_url.split('v=')`[1]: This line extracts the unique video ID from the provided YouTube URL. For example, in the URL `https://www.youtube.com/watch?v=cdiD-9MMpb0`, the video ID is `cdiD-9MMpb0`. The `split('v=')` splits the URL at` v= `and retrieves the part after it.\n",
        "\n",
        "try:: Starts a try-except block to handle any errors that might occur while fetching the transcript.\n",
        "\n",
        "`transcript = YouTubeTranscriptApi.get_transcript(video_id):` Uses the `YouTubeTranscriptApi` to retrieve the transcript for the given `video_id`. The transcript is returned as a list of dictionaries where each dictionary contains a snippet of text and its timestamp.\n",
        "\n",
        "`transcript_text = \"\\n\".join([entry['text'] for entry in transcript])`: This line converts the list of transcript dictionaries into a single string. It joins all the text values from each dictionary using a newline character (\\n).\n",
        "\n",
        "`return transcript_text`: Returns the combined transcript text.\n",
        "\n",
        "`except Exception as e:`: If any error occurs (e.g., the video has no transcript or another issue), the except block will catch the error.\n",
        "\n",
        "`print(f\"Error fetching transcript: {e}\"):` Prints the error message so the user can understand what went wrong.\n",
        "\n",
        "`return None:` If an error occurs, the function will return None to indicate that no transcript was retrieved."
      ],
      "metadata": {
        "id": "x2G4VxoKLKnF"
      }
    },
    {
      "cell_type": "markdown",
      "source": [
        "**Cell 4: Main Function**\n",
        "\n",
        "Line-by-line breakdown:\n",
        "\n",
        "if __name__ == \"__main__\":: This is a common Python idiom to check whether the script is being run as the main program. If true, it will execute the code inside this block. If this script is imported as a module in another script, this block will not run.\n",
        "\n",
        "video_url = \"https://www.youtube.com/watch?v=cdiD-9MMpb0\": This assigns the YouTube video URL to the variable `video_url`. Replace this with the URL of the video you want to analyze.\n",
        "\n",
        "`fetch_video_details(video_url)`: Calls the fetch_video_details function to print out information about the video.\n",
        "\n",
        "`transcript = fetch_transcript(video_url)`: Calls the fetch_transcript function to retrieve the transcript of the video and store it in the variable transcript.\n",
        "\n",
        "`if transcript:`: This checks whether the transcript was successfully retrieved (i.e., it is not None).\n",
        "\n",
        "`with open(\"transcript.txt\", \"w\", encoding=\"utf-8\") as file:`: If the transcript is available, this opens (or creates) a file called transcript.txt in write mode (\"w\") with UTF-8 encoding.\n",
        "\n",
        "`file.write(transcript)`: Writes the transcript to the file.\n",
        "\n",
        "`print(\"Transcript saved to transcript.txt\")`: Confirms that the transcript has been saved.\n",
        "\n",
        "`else:`: If the transcript is not available or an error occurred, this block will be executed.\n",
        "\n",
        "`print(\"No transcript available or error occurred.\")`: Prints a message indicating that no transcript was fetched."
      ],
      "metadata": {
        "id": "4nyrovIkM9rN"
      }
    },
    {
      "cell_type": "code",
      "source": [
        "#Cell 1: Import Libraries\n",
        "from pytube import YouTube\n",
        "from youtube_transcript_api import YouTubeTranscriptApi\n",
        "\n",
        "#Cell 2: Fetch Video Details Function\n",
        "# Function to fetch video details\n",
        "def fetch_video_details(video_url):\n",
        "    yt = YouTube(video_url)\n",
        "    print(f\"Title: {yt.title}\")\n",
        "    print(f\"Views: {yt.views}\")\n",
        "    print(f\"Length: {yt.length} seconds\")\n",
        "    print(f\"Description: {yt.description}\")\n",
        "\n",
        "#Cell 3: Fetch Transcript Function\n",
        "# Function to fetch the transcript\n",
        "def fetch_transcript(video_url):\n",
        "    # Extract the video ID from the URL\n",
        "    video_id = video_url.split('v=')[1]\n",
        "    try:\n",
        "        transcript = YouTubeTranscriptApi.get_transcript(video_id)\n",
        "        # Convert transcript into plain text\n",
        "        transcript_text = \"\\n\".join([entry['text'] for entry in transcript])\n",
        "        return transcript_text\n",
        "    except Exception as e:\n",
        "        print(f\"Error fetching transcript: {e}\")\n",
        "        return None\n",
        "\n",
        "#Cell 4: Main Function\n",
        "# Main function\n",
        "if __name__ == \"__main__\":\n",
        "    # Correctly provide the YouTube video URL\n",
        "    video_url = \"https://www.youtube.com/watch?v=cdiD-9MMpb0\"\n",
        "\n",
        "    # Fetch video details\n",
        "    fetch_video_details(video_url)\n",
        "\n",
        "    # Fetch and display transcript\n",
        "    transcript = fetch_transcript(video_url)\n",
        "    if transcript:\n",
        "        with open(\"transcript.txt\", \"w\", encoding=\"utf-8\") as file:\n",
        "            file.write(transcript)\n",
        "        print(\"Transcript saved to transcript.txt\")\n",
        "    else:\n",
        "        print(\"No transcript available or error occurred.\")\n"
      ],
      "metadata": {
        "colab": {
          "base_uri": "https://localhost:8080/"
        },
        "id": "cDJTGggcKBVN",
        "outputId": "f81ed9e6-e07f-405b-cbca-e472471054c9"
      },
      "execution_count": null,
      "outputs": [
        {
          "output_type": "stream",
          "name": "stdout",
          "text": [
            "Title: Andrej Karpathy: Tesla AI, Self-Driving, Optimus, Aliens, and AGI | Lex Fridman Podcast #333\n",
            "Views: 3349605\n",
            "Length: 12527 seconds\n",
            "Description: None\n",
            "Transcript saved to transcript.txt\n"
          ]
        }
      ]
    },
    {
      "cell_type": "code",
      "source": [],
      "metadata": {
        "id": "a1QHDwf4KJ9e"
      },
      "execution_count": null,
      "outputs": []
    }
  ]
}